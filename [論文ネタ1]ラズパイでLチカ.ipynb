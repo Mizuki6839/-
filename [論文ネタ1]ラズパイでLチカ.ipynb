{
  "nbformat": 4,
  "nbformat_minor": 0,
  "metadata": {
    "colab": {
      "provenance": [],
      "authorship_tag": "ABX9TyPQYHJ3ci0SeK+5ipUmybHl",
      "include_colab_link": true
    },
    "kernelspec": {
      "name": "python3",
      "display_name": "Python 3"
    },
    "language_info": {
      "name": "python"
    }
  },
  "cells": [
    {
      "cell_type": "markdown",
      "metadata": {
        "id": "view-in-github",
        "colab_type": "text"
      },
      "source": [
        "<a href=\"https://colab.research.google.com/github/Mizuki6839/-/blob/main/%5B%E8%AB%96%E6%96%87%E3%83%8D%E3%82%BF1%5D%E3%83%A9%E3%82%BA%E3%83%91%E3%82%A4%E3%81%A7L%E3%83%81%E3%82%AB.ipynb\" target=\"_parent\"><img src=\"https://colab.research.google.com/assets/colab-badge.svg\" alt=\"Open In Colab\"/></a>"
      ]
    },
    {
      "cell_type": "code",
      "execution_count": null,
      "metadata": {
        "id": "OGaGmVkBnPx4"
      },
      "outputs": [],
      "source": [
        "$ sudo apt-get install python-rpi.gpio\n",
        "\n",
        "\n",
        "# PythonでLチカ\n",
        "import PRi.GPIO as GPIO\n",
        "from time import sleep\n",
        "\n",
        "#25番ピンを出力に設定\n",
        "GPIO.setmode(GPIO.BCM)\n",
        "GPIO.setup(25, GPIO.OUT)\n",
        "\n",
        "\n",
        "\n",
        "\n"
      ]
    }
  ]
}
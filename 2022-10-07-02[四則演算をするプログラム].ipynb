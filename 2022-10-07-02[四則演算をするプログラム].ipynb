{
  "nbformat": 4,
  "nbformat_minor": 0,
  "metadata": {
    "colab": {
      "provenance": [],
      "authorship_tag": "ABX9TyNi68iLlHunFxQiy7IJbpNB",
      "include_colab_link": true
    },
    "kernelspec": {
      "name": "python3",
      "display_name": "Python 3"
    },
    "language_info": {
      "name": "python"
    }
  },
  "cells": [
    {
      "cell_type": "markdown",
      "metadata": {
        "id": "view-in-github",
        "colab_type": "text"
      },
      "source": [
        "<a href=\"https://colab.research.google.com/github/Mizuki6839/-/blob/main/2022-10-07-02%5B%E5%9B%9B%E5%89%87%E6%BC%94%E7%AE%97%E3%82%92%E3%81%99%E3%82%8B%E3%83%97%E3%83%AD%E3%82%B0%E3%83%A9%E3%83%A0%5D.ipynb\" target=\"_parent\"><img src=\"https://colab.research.google.com/assets/colab-badge.svg\" alt=\"Open In Colab\"/></a>"
      ]
    },
    {
      "cell_type": "code",
      "execution_count": 5,
      "metadata": {
        "colab": {
          "base_uri": "https://localhost:8080/"
        },
        "id": "T48z6WLx0uZG",
        "outputId": "ea40ad62-c0b6-4517-8cbb-41b1816886c7"
      },
      "outputs": [
        {
          "output_type": "stream",
          "name": "stdout",
          "text": [
            "１つ目の数を入力10\n",
            "2つ目の数を入力2\n",
            "12.0\n",
            "8.0\n",
            "20.0\n",
            "5.0\n"
          ]
        }
      ],
      "source": [
        "# 課題番:2022-10-07-02\n",
        "# 四則演算をするプログラム\n",
        "# 221070 羽賀瑞樹 2022/10/07作成\n",
        "\n",
        "kazu1 = float(input(\"１つ目の数を入力\"));\n",
        "kazu2 = float(input(\"2つ目の数を入力\"));\n",
        "print(kazu1+kazu2);\n",
        "print(kazu1-kazu2);\n",
        "print(kazu1*kazu2);\n",
        "print(kazu1/kazu2);\n",
        "\n",
        "\n"
      ]
    }
  ]
}